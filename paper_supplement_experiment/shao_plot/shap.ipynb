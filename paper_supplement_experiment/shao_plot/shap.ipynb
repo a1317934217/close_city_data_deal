{
 "cells": [
  {
   "cell_type": "code",
   "execution_count": 6,
   "id": "0fa3d63d",
   "metadata": {},
   "outputs": [],
   "source": [
    "import shap\n",
    "import pandas as pd\n",
    "data = pd.read_csv('data.csv')\n",
    "data_copy = data.copy()\n",
    "del data_copy['City_name']\n",
    "data_copy\n",
    "data_x = data_copy.copy()\n",
    "data_y = data_copy['eco_value']"
   ]
  },
  {
   "cell_type": "code",
   "execution_count": 13,
   "id": "5ead0444",
   "metadata": {},
   "outputs": [
    {
     "data": {
      "text/html": [
       "<div>\n",
       "<style scoped>\n",
       "    .dataframe tbody tr th:only-of-type {\n",
       "        vertical-align: middle;\n",
       "    }\n",
       "\n",
       "    .dataframe tbody tr th {\n",
       "        vertical-align: top;\n",
       "    }\n",
       "\n",
       "    .dataframe thead th {\n",
       "        text-align: right;\n",
       "    }\n",
       "</style>\n",
       "<table border=\"1\" class=\"dataframe\">\n",
       "  <thead>\n",
       "    <tr style=\"text-align: right;\">\n",
       "      <th></th>\n",
       "      <th>Average_node_connectivity</th>\n",
       "      <th>City_degree</th>\n",
       "      <th>Edge_number</th>\n",
       "      <th>Nature_connectivity</th>\n",
       "      <th>Average_short_length</th>\n",
       "      <th>Algebraic_connectivity</th>\n",
       "      <th>node_connectivity</th>\n",
       "      <th>connectivity_loss</th>\n",
       "      <th>size_of_largest_component</th>\n",
       "    </tr>\n",
       "  </thead>\n",
       "  <tbody>\n",
       "    <tr>\n",
       "      <th>0</th>\n",
       "      <td>4.703297</td>\n",
       "      <td>13</td>\n",
       "      <td>48</td>\n",
       "      <td>5.287729</td>\n",
       "      <td>1.472527</td>\n",
       "      <td>2.359041</td>\n",
       "      <td>3</td>\n",
       "      <td>0.0</td>\n",
       "      <td>14</td>\n",
       "    </tr>\n",
       "    <tr>\n",
       "      <th>1</th>\n",
       "      <td>5.418182</td>\n",
       "      <td>10</td>\n",
       "      <td>38</td>\n",
       "      <td>5.072531</td>\n",
       "      <td>1.309091</td>\n",
       "      <td>3.000000</td>\n",
       "      <td>3</td>\n",
       "      <td>0.0</td>\n",
       "      <td>11</td>\n",
       "    </tr>\n",
       "    <tr>\n",
       "      <th>2</th>\n",
       "      <td>2.345455</td>\n",
       "      <td>10</td>\n",
       "      <td>21</td>\n",
       "      <td>2.410666</td>\n",
       "      <td>1.618182</td>\n",
       "      <td>1.172301</td>\n",
       "      <td>2</td>\n",
       "      <td>0.0</td>\n",
       "      <td>11</td>\n",
       "    </tr>\n",
       "    <tr>\n",
       "      <th>3</th>\n",
       "      <td>2.095238</td>\n",
       "      <td>6</td>\n",
       "      <td>11</td>\n",
       "      <td>1.812041</td>\n",
       "      <td>1.476190</td>\n",
       "      <td>1.000000</td>\n",
       "      <td>1</td>\n",
       "      <td>0.0</td>\n",
       "      <td>7</td>\n",
       "    </tr>\n",
       "    <tr>\n",
       "      <th>4</th>\n",
       "      <td>1.941520</td>\n",
       "      <td>18</td>\n",
       "      <td>38</td>\n",
       "      <td>2.965315</td>\n",
       "      <td>1.777778</td>\n",
       "      <td>1.000000</td>\n",
       "      <td>1</td>\n",
       "      <td>0.0</td>\n",
       "      <td>19</td>\n",
       "    </tr>\n",
       "    <tr>\n",
       "      <th>...</th>\n",
       "      <td>...</td>\n",
       "      <td>...</td>\n",
       "      <td>...</td>\n",
       "      <td>...</td>\n",
       "      <td>...</td>\n",
       "      <td>...</td>\n",
       "      <td>...</td>\n",
       "      <td>...</td>\n",
       "      <td>...</td>\n",
       "    </tr>\n",
       "    <tr>\n",
       "      <th>1003</th>\n",
       "      <td>2.441667</td>\n",
       "      <td>15</td>\n",
       "      <td>38</td>\n",
       "      <td>3.702870</td>\n",
       "      <td>1.683333</td>\n",
       "      <td>1.000000</td>\n",
       "      <td>1</td>\n",
       "      <td>0.0</td>\n",
       "      <td>16</td>\n",
       "    </tr>\n",
       "    <tr>\n",
       "      <th>1004</th>\n",
       "      <td>2.102941</td>\n",
       "      <td>16</td>\n",
       "      <td>34</td>\n",
       "      <td>3.113271</td>\n",
       "      <td>1.750000</td>\n",
       "      <td>1.000000</td>\n",
       "      <td>1</td>\n",
       "      <td>0.0</td>\n",
       "      <td>17</td>\n",
       "    </tr>\n",
       "    <tr>\n",
       "      <th>1005</th>\n",
       "      <td>2.025641</td>\n",
       "      <td>12</td>\n",
       "      <td>25</td>\n",
       "      <td>2.768758</td>\n",
       "      <td>1.679487</td>\n",
       "      <td>1.000000</td>\n",
       "      <td>1</td>\n",
       "      <td>0.0</td>\n",
       "      <td>13</td>\n",
       "    </tr>\n",
       "    <tr>\n",
       "      <th>1006</th>\n",
       "      <td>1.800000</td>\n",
       "      <td>5</td>\n",
       "      <td>8</td>\n",
       "      <td>1.433710</td>\n",
       "      <td>1.466667</td>\n",
       "      <td>1.000000</td>\n",
       "      <td>1</td>\n",
       "      <td>0.0</td>\n",
       "      <td>6</td>\n",
       "    </tr>\n",
       "    <tr>\n",
       "      <th>1007</th>\n",
       "      <td>1.069264</td>\n",
       "      <td>21</td>\n",
       "      <td>26</td>\n",
       "      <td>1.950728</td>\n",
       "      <td>1.887446</td>\n",
       "      <td>1.000000</td>\n",
       "      <td>1</td>\n",
       "      <td>0.0</td>\n",
       "      <td>22</td>\n",
       "    </tr>\n",
       "  </tbody>\n",
       "</table>\n",
       "<p>1008 rows × 9 columns</p>\n",
       "</div>"
      ],
      "text/plain": [
       "      Average_node_connectivity  City_degree  Edge_number  \\\n",
       "0                      4.703297           13           48   \n",
       "1                      5.418182           10           38   \n",
       "2                      2.345455           10           21   \n",
       "3                      2.095238            6           11   \n",
       "4                      1.941520           18           38   \n",
       "...                         ...          ...          ...   \n",
       "1003                   2.441667           15           38   \n",
       "1004                   2.102941           16           34   \n",
       "1005                   2.025641           12           25   \n",
       "1006                   1.800000            5            8   \n",
       "1007                   1.069264           21           26   \n",
       "\n",
       "      Nature_connectivity  Average_short_length  Algebraic_connectivity  \\\n",
       "0                5.287729              1.472527                2.359041   \n",
       "1                5.072531              1.309091                3.000000   \n",
       "2                2.410666              1.618182                1.172301   \n",
       "3                1.812041              1.476190                1.000000   \n",
       "4                2.965315              1.777778                1.000000   \n",
       "...                   ...                   ...                     ...   \n",
       "1003             3.702870              1.683333                1.000000   \n",
       "1004             3.113271              1.750000                1.000000   \n",
       "1005             2.768758              1.679487                1.000000   \n",
       "1006             1.433710              1.466667                1.000000   \n",
       "1007             1.950728              1.887446                1.000000   \n",
       "\n",
       "      node_connectivity  connectivity_loss  size_of_largest_component  \n",
       "0                     3                0.0                         14  \n",
       "1                     3                0.0                         11  \n",
       "2                     2                0.0                         11  \n",
       "3                     1                0.0                          7  \n",
       "4                     1                0.0                         19  \n",
       "...                 ...                ...                        ...  \n",
       "1003                  1                0.0                         16  \n",
       "1004                  1                0.0                         17  \n",
       "1005                  1                0.0                         13  \n",
       "1006                  1                0.0                          6  \n",
       "1007                  1                0.0                         22  \n",
       "\n",
       "[1008 rows x 9 columns]"
      ]
     },
     "execution_count": 13,
     "metadata": {},
     "output_type": "execute_result"
    }
   ],
   "source": [
    "data_x"
   ]
  },
  {
   "cell_type": "code",
   "execution_count": 14,
   "id": "fd428f55",
   "metadata": {},
   "outputs": [
    {
     "data": {
      "text/plain": [
       "0       101.9\n",
       "1       102.1\n",
       "2       102.0\n",
       "3       101.9\n",
       "4       102.1\n",
       "        ...  \n",
       "1003    100.3\n",
       "1004    101.6\n",
       "1005     99.9\n",
       "1006    100.5\n",
       "1007     99.8\n",
       "Name: eco_value, Length: 1008, dtype: float64"
      ]
     },
     "execution_count": 14,
     "metadata": {},
     "output_type": "execute_result"
    }
   ],
   "source": [
    "data_y"
   ]
  },
  {
   "cell_type": "code",
   "execution_count": 16,
   "id": "8110d592",
   "metadata": {},
   "outputs": [
    {
     "name": "stdout",
     "output_type": "stream",
     "text": [
      "[16:48:48] WARNING: C:/Users/Administrator/workspace/xgboost-win64_release_1.6.0/src/learner.cc:627: \n",
      "Parameters: { \"randam_state\" } might not be used.\n",
      "\n",
      "  This could be a false alarm, with some parameters getting used by language bindings but\n",
      "  then being mistakenly passed down to XGBoost core, or some parameter actually being used\n",
      "  but getting flagged wrongly here. Please open an issue if you find any such cases.\n",
      "\n",
      "\n",
      "[16:48:48] WARNING: C:/Users/Administrator/workspace/xgboost-win64_release_1.6.0/src/learner.cc:627: \n",
      "Parameters: { \"randam_state\" } might not be used.\n",
      "\n",
      "  This could be a false alarm, with some parameters getting used by language bindings but\n",
      "  then being mistakenly passed down to XGBoost core, or some parameter actually being used\n",
      "  but getting flagged wrongly here. Please open an issue if you find any such cases.\n",
      "\n",
      "\n",
      "[16:48:48] WARNING: C:/Users/Administrator/workspace/xgboost-win64_release_1.6.0/src/learner.cc:627: \n",
      "Parameters: { \"randam_state\" } might not be used.\n",
      "\n",
      "  This could be a false alarm, with some parameters getting used by language bindings but\n",
      "  then being mistakenly passed down to XGBoost core, or some parameter actually being used\n",
      "  but getting flagged wrongly here. Please open an issue if you find any such cases.\n",
      "\n",
      "\n",
      "[16:48:48] WARNING: C:/Users/Administrator/workspace/xgboost-win64_release_1.6.0/src/learner.cc:627: \n",
      "Parameters: { \"randam_state\" } might not be used.\n",
      "\n",
      "  This could be a false alarm, with some parameters getting used by language bindings but\n",
      "  then being mistakenly passed down to XGBoost core, or some parameter actually being used\n",
      "  but getting flagged wrongly here. Please open an issue if you find any such cases.\n",
      "\n",
      "\n",
      "[16:48:48] WARNING: C:/Users/Administrator/workspace/xgboost-win64_release_1.6.0/src/learner.cc:627: \n",
      "Parameters: { \"randam_state\" } might not be used.\n",
      "\n",
      "  This could be a false alarm, with some parameters getting used by language bindings but\n",
      "  then being mistakenly passed down to XGBoost core, or some parameter actually being used\n",
      "  but getting flagged wrongly here. Please open an issue if you find any such cases.\n",
      "\n",
      "\n",
      "[16:48:49] WARNING: C:/Users/Administrator/workspace/xgboost-win64_release_1.6.0/src/learner.cc:627: \n",
      "Parameters: { \"randam_state\" } might not be used.\n",
      "\n",
      "  This could be a false alarm, with some parameters getting used by language bindings but\n",
      "  then being mistakenly passed down to XGBoost core, or some parameter actually being used\n",
      "  but getting flagged wrongly here. Please open an issue if you find any such cases.\n",
      "\n",
      "\n"
     ]
    },
    {
     "data": {
      "text/plain": [
       "-1.9411996002939156"
      ]
     },
     "execution_count": 16,
     "metadata": {},
     "output_type": "execute_result"
    }
   ],
   "source": [
    "import xgboost as xgb\n",
    "from sklearn.model_selection import cross_val_score \n",
    "model = xgb.XGBRegressor(max_depth=6,learning_rate=0.05,n_estimators=100,randam_state=42)\n",
    "model.fit(data_x,data_y)\n",
    "scores = cross_val_score(model, X=data_x, y=data_y, verbose=0, cv = 5, scoring='neg_mean_squared_error')\n",
    "scores.mean()"
   ]
  },
  {
   "cell_type": "code",
   "execution_count": 18,
   "id": "59e51b0e",
   "metadata": {},
   "outputs": [
    {
     "data": {
      "image/png": "[encoded data removed]",
      "text/plain": [
       "<Figure size 576x367.2 with 2 Axes>"
      ]
     },
     "metadata": {
      "needs_background": "light"
     },
     "output_type": "display_data"
    }
   ],
   "source": [
    "explainer = shap.TreeExplainer(model)\n",
    "# # compute SHAP values\n",
    "explainer = shap.Explainer(model, data_x)\n",
    "shap_values = explainer(data_x)\n",
    "shap.summary_plot(shap_values, data_x)"
   ]
  },
  {
   "cell_type": "code",
   "execution_count": 21,
   "id": "882935b5",
   "metadata": {},
   "outputs": [
    {
     "data": {
      "text/plain": [
       ".values =\n",
       "array([[ 0.17749234, -0.00682216,  0.2315485 , ...,  0.00327007,\n",
       "         0.        ,  0.        ],\n",
       "       [-0.01853662, -0.02342017,  0.27469767, ...,  0.0041212 ,\n",
       "         0.        ,  0.        ],\n",
       "       [-0.05153265, -0.05613048, -0.04017093, ...,  0.00755543,\n",
       "         0.        ,  0.        ],\n",
       "       ...,\n",
       "       [-0.0408319 , -0.0428005 , -0.07607013, ...,  0.00721026,\n",
       "         0.        ,  0.        ],\n",
       "       [-0.04421704, -0.11502919, -0.04571594, ...,  0.00765752,\n",
       "         0.        ,  0.        ],\n",
       "       [-0.48766708,  0.0356045 , -0.13084805, ...,  0.00525041,\n",
       "         0.        ,  0.        ]])\n",
       "\n",
       ".base_values =\n",
       "array([100.77491352, 100.77491352, 100.77491352, ..., 100.77491352,\n",
       "       100.77491352, 100.77491352])\n",
       "\n",
       ".data =\n",
       "array([[ 4.7032967 , 13.        , 48.        , ...,  3.        ,\n",
       "         0.        , 14.        ],\n",
       "       [ 5.41818182, 10.        , 38.        , ...,  3.        ,\n",
       "         0.        , 11.        ],\n",
       "       [ 2.34545455, 10.        , 21.        , ...,  2.        ,\n",
       "         0.        , 11.        ],\n",
       "       ...,\n",
       "       [ 2.02564103, 12.        , 25.        , ...,  1.        ,\n",
       "         0.        , 13.        ],\n",
       "       [ 1.8       ,  5.        ,  8.        , ...,  1.        ,\n",
       "         0.        ,  6.        ],\n",
       "       [ 1.06926407, 21.        , 26.        , ...,  1.        ,\n",
       "         0.        , 22.        ]])"
      ]
     },
     "execution_count": 21,
     "metadata": {},
     "output_type": "execute_result"
    }
   ],
   "source": [
    "shap_values"
   ]
  },
  {
   "cell_type": "code",
   "execution_count": 19,
   "id": "29f65fc1",
   "metadata": {},
   "outputs": [
    {
     "data": {
      "image/png": "[encoded data removed]",
      "text/plain": [
       "<Figure size 576x367.2 with 1 Axes>"
      ]
     },
     "metadata": {
      "needs_background": "light"
     },
     "output_type": "display_data"
    }
   ],
   "source": [
    "shap.summary_plot(shap_values, data_x, plot_type=\"bar\")"
   ]
  }
 ],
 "metadata": {
  "kernelspec": {
   "display_name": "Python 3 (ipykernel)",
   "language": "python",
   "name": "python3"
  },
  "language_info": {
   "codemirror_mode": {
    "name": "ipython",
    "version": 3
   },
   "file_extension": ".py",
   "mimetype": "text/x-python",
   "name": "python",
   "nbconvert_exporter": "python",
   "pygments_lexer": "ipython3",
   "version": "3.9.7"
  },
  "pycharm": {
   "stem_cell": {
    "cell_type": "raw",
    "source": [],
    "metadata": {
     "collapsed": false
    }
   }
  }
 },
 "nbformat": 4,
 "nbformat_minor": 5
}