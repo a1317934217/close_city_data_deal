{
 "cells": [
  {
   "cell_type": "code",
   "execution_count": 3,
   "id": "2217ce23",
   "metadata": {},
   "outputs": [],
   "source": [
    "import pandas as pd"
   ]
  },
  {
   "cell_type": "code",
   "execution_count": 4,
   "id": "e31eeba3",
   "metadata": {},
   "outputs": [
    {
     "data": {
      "text/plain": "     City_name    平均点连通性  城市度  边数量     自然连通性  平均最短路径长度     代数连通性  点连通性  连通性损失  \\\n0           天津  4.703297   13   48  5.287729  1.472527  2.359041     3    0.0   \n1          石家庄  5.418182   10   38  5.072531  1.309091  3.000000     3    0.0   \n2           太原  2.345455   10   21  2.410666  1.618182  1.172301     2    0.0   \n3         呼和浩特  2.095238    6   11  1.812041  1.476190  1.000000     1    0.0   \n4           沈阳  1.941520   18   38  2.965315  1.777778  1.000000     1    0.0   \n...        ...       ...  ...  ...       ...       ...       ...   ...    ...   \n1003        南京  2.441667   15   38  3.702870  1.683333  1.000000     1    0.0   \n1004        广州  2.102941   16   34  3.113271  1.750000  1.000000     1    0.0   \n1005        深圳  2.025641   12   25  2.768758  1.679487  1.000000     1    0.0   \n1006        重庆  1.800000    5    8  1.433710  1.466667  1.000000     1    0.0   \n1007        成都  1.069264   21   26  1.950728  1.887446  1.000000     1    0.0   \n\n      最大组件大小（城市）  eco_value  \n0             14      101.9  \n1             11      102.1  \n2             11      102.0  \n3              7      101.9  \n4             19      102.1  \n...          ...        ...  \n1003          16      100.3  \n1004          17      101.6  \n1005          13       99.9  \n1006           6      100.5  \n1007          22       99.8  \n\n[1008 rows x 11 columns]",
      "text/html": "<div>\n<style scoped>\n    .dataframe tbody tr th:only-of-type {\n        vertical-align: middle;\n    }\n\n    .dataframe tbody tr th {\n        vertical-align: top;\n    }\n\n    .dataframe thead th {\n        text-align: right;\n    }\n</style>\n<table border=\"1\" class=\"dataframe\">\n  <thead>\n    <tr style=\"text-align: right;\">\n      <th></th>\n      <th>City_name</th>\n      <th>平均点连通性</th>\n      <th>城市度</th>\n      <th>边数量</th>\n      <th>自然连通性</th>\n      <th>平均最短路径长度</th>\n      <th>代数连通性</th>\n      <th>点连通性</th>\n      <th>连通性损失</th>\n      <th>最大组件大小（城市）</th>\n      <th>eco_value</th>\n    </tr>\n  </thead>\n  <tbody>\n    <tr>\n      <th>0</th>\n      <td>天津</td>\n      <td>4.703297</td>\n      <td>13</td>\n      <td>48</td>\n      <td>5.287729</td>\n      <td>1.472527</td>\n      <td>2.359041</td>\n      <td>3</td>\n      <td>0.0</td>\n      <td>14</td>\n      <td>101.9</td>\n    </tr>\n    <tr>\n      <th>1</th>\n      <td>石家庄</td>\n      <td>5.418182</td>\n      <td>10</td>\n      <td>38</td>\n      <td>5.072531</td>\n      <td>1.309091</td>\n      <td>3.000000</td>\n      <td>3</td>\n      <td>0.0</td>\n      <td>11</td>\n      <td>102.1</td>\n    </tr>\n    <tr>\n      <th>2</th>\n      <td>太原</td>\n      <td>2.345455</td>\n      <td>10</td>\n      <td>21</td>\n      <td>2.410666</td>\n      <td>1.618182</td>\n      <td>1.172301</td>\n      <td>2</td>\n      <td>0.0</td>\n      <td>11</td>\n      <td>102.0</td>\n    </tr>\n    <tr>\n      <th>3</th>\n      <td>呼和浩特</td>\n      <td>2.095238</td>\n      <td>6</td>\n      <td>11</td>\n      <td>1.812041</td>\n      <td>1.476190</td>\n      <td>1.000000</td>\n      <td>1</td>\n      <td>0.0</td>\n      <td>7</td>\n      <td>101.9</td>\n    </tr>\n    <tr>\n      <th>4</th>\n      <td>沈阳</td>\n      <td>1.941520</td>\n      <td>18</td>\n      <td>38</td>\n      <td>2.965315</td>\n      <td>1.777778</td>\n      <td>1.000000</td>\n      <td>1</td>\n      <td>0.0</td>\n      <td>19</td>\n      <td>102.1</td>\n    </tr>\n    <tr>\n      <th>...</th>\n      <td>...</td>\n      <td>...</td>\n      <td>...</td>\n      <td>...</td>\n      <td>...</td>\n      <td>...</td>\n      <td>...</td>\n      <td>...</td>\n      <td>...</td>\n      <td>...</td>\n      <td>...</td>\n    </tr>\n    <tr>\n      <th>1003</th>\n      <td>南京</td>\n      <td>2.441667</td>\n      <td>15</td>\n      <td>38</td>\n      <td>3.702870</td>\n      <td>1.683333</td>\n      <td>1.000000</td>\n      <td>1</td>\n      <td>0.0</td>\n      <td>16</td>\n      <td>100.3</td>\n    </tr>\n    <tr>\n      <th>1004</th>\n      <td>广州</td>\n      <td>2.102941</td>\n      <td>16</td>\n      <td>34</td>\n      <td>3.113271</td>\n      <td>1.750000</td>\n      <td>1.000000</td>\n      <td>1</td>\n      <td>0.0</td>\n      <td>17</td>\n      <td>101.6</td>\n    </tr>\n    <tr>\n      <th>1005</th>\n      <td>深圳</td>\n      <td>2.025641</td>\n      <td>12</td>\n      <td>25</td>\n      <td>2.768758</td>\n      <td>1.679487</td>\n      <td>1.000000</td>\n      <td>1</td>\n      <td>0.0</td>\n      <td>13</td>\n      <td>99.9</td>\n    </tr>\n    <tr>\n      <th>1006</th>\n      <td>重庆</td>\n      <td>1.800000</td>\n      <td>5</td>\n      <td>8</td>\n      <td>1.433710</td>\n      <td>1.466667</td>\n      <td>1.000000</td>\n      <td>1</td>\n      <td>0.0</td>\n      <td>6</td>\n      <td>100.5</td>\n    </tr>\n    <tr>\n      <th>1007</th>\n      <td>成都</td>\n      <td>1.069264</td>\n      <td>21</td>\n      <td>26</td>\n      <td>1.950728</td>\n      <td>1.887446</td>\n      <td>1.000000</td>\n      <td>1</td>\n      <td>0.0</td>\n      <td>22</td>\n      <td>99.8</td>\n    </tr>\n  </tbody>\n</table>\n<p>1008 rows × 11 columns</p>\n</div>"
     },
     "execution_count": 4,
     "metadata": {},
     "output_type": "execute_result"
    }
   ],
   "source": [
    "data = pd.read_csv('data.csv')\n",
    "data"
   ]
  },
  {
   "cell_type": "code",
   "execution_count": 5,
   "id": "15075c1d",
   "metadata": {},
   "outputs": [
    {
     "data": {
      "text/plain": "        平均点连通性  城市度  边数量     自然连通性  平均最短路径长度     代数连通性  点连通性  连通性损失  \\\n0     4.703297   13   48  5.287729  1.472527  2.359041     3    0.0   \n1     5.418182   10   38  5.072531  1.309091  3.000000     3    0.0   \n2     2.345455   10   21  2.410666  1.618182  1.172301     2    0.0   \n3     2.095238    6   11  1.812041  1.476190  1.000000     1    0.0   \n4     1.941520   18   38  2.965315  1.777778  1.000000     1    0.0   \n...        ...  ...  ...       ...       ...       ...   ...    ...   \n1003  2.441667   15   38  3.702870  1.683333  1.000000     1    0.0   \n1004  2.102941   16   34  3.113271  1.750000  1.000000     1    0.0   \n1005  2.025641   12   25  2.768758  1.679487  1.000000     1    0.0   \n1006  1.800000    5    8  1.433710  1.466667  1.000000     1    0.0   \n1007  1.069264   21   26  1.950728  1.887446  1.000000     1    0.0   \n\n      最大组件大小（城市）  eco_value  \n0             14      101.9  \n1             11      102.1  \n2             11      102.0  \n3              7      101.9  \n4             19      102.1  \n...          ...        ...  \n1003          16      100.3  \n1004          17      101.6  \n1005          13       99.9  \n1006           6      100.5  \n1007          22       99.8  \n\n[1008 rows x 10 columns]",
      "text/html": "<div>\n<style scoped>\n    .dataframe tbody tr th:only-of-type {\n        vertical-align: middle;\n    }\n\n    .dataframe tbody tr th {\n        vertical-align: top;\n    }\n\n    .dataframe thead th {\n        text-align: right;\n    }\n</style>\n<table border=\"1\" class=\"dataframe\">\n  <thead>\n    <tr style=\"text-align: right;\">\n      <th></th>\n      <th>平均点连通性</th>\n      <th>城市度</th>\n      <th>边数量</th>\n      <th>自然连通性</th>\n      <th>平均最短路径长度</th>\n      <th>代数连通性</th>\n      <th>点连通性</th>\n      <th>连通性损失</th>\n      <th>最大组件大小（城市）</th>\n      <th>eco_value</th>\n    </tr>\n  </thead>\n  <tbody>\n    <tr>\n      <th>0</th>\n      <td>4.703297</td>\n      <td>13</td>\n      <td>48</td>\n      <td>5.287729</td>\n      <td>1.472527</td>\n      <td>2.359041</td>\n      <td>3</td>\n      <td>0.0</td>\n      <td>14</td>\n      <td>101.9</td>\n    </tr>\n    <tr>\n      <th>1</th>\n      <td>5.418182</td>\n      <td>10</td>\n      <td>38</td>\n      <td>5.072531</td>\n      <td>1.309091</td>\n      <td>3.000000</td>\n      <td>3</td>\n      <td>0.0</td>\n      <td>11</td>\n      <td>102.1</td>\n    </tr>\n    <tr>\n      <th>2</th>\n      <td>2.345455</td>\n      <td>10</td>\n      <td>21</td>\n      <td>2.410666</td>\n      <td>1.618182</td>\n      <td>1.172301</td>\n      <td>2</td>\n      <td>0.0</td>\n      <td>11</td>\n      <td>102.0</td>\n    </tr>\n    <tr>\n      <th>3</th>\n      <td>2.095238</td>\n      <td>6</td>\n      <td>11</td>\n      <td>1.812041</td>\n      <td>1.476190</td>\n      <td>1.000000</td>\n      <td>1</td>\n      <td>0.0</td>\n      <td>7</td>\n      <td>101.9</td>\n    </tr>\n    <tr>\n      <th>4</th>\n      <td>1.941520</td>\n      <td>18</td>\n      <td>38</td>\n      <td>2.965315</td>\n      <td>1.777778</td>\n      <td>1.000000</td>\n      <td>1</td>\n      <td>0.0</td>\n      <td>19</td>\n      <td>102.1</td>\n    </tr>\n    <tr>\n      <th>...</th>\n      <td>...</td>\n      <td>...</td>\n      <td>...</td>\n      <td>...</td>\n      <td>...</td>\n      <td>...</td>\n      <td>...</td>\n      <td>...</td>\n      <td>...</td>\n      <td>...</td>\n    </tr>\n    <tr>\n      <th>1003</th>\n      <td>2.441667</td>\n      <td>15</td>\n      <td>38</td>\n      <td>3.702870</td>\n      <td>1.683333</td>\n      <td>1.000000</td>\n      <td>1</td>\n      <td>0.0</td>\n      <td>16</td>\n      <td>100.3</td>\n    </tr>\n    <tr>\n      <th>1004</th>\n      <td>2.102941</td>\n      <td>16</td>\n      <td>34</td>\n      <td>3.113271</td>\n      <td>1.750000</td>\n      <td>1.000000</td>\n      <td>1</td>\n      <td>0.0</td>\n      <td>17</td>\n      <td>101.6</td>\n    </tr>\n    <tr>\n      <th>1005</th>\n      <td>2.025641</td>\n      <td>12</td>\n      <td>25</td>\n      <td>2.768758</td>\n      <td>1.679487</td>\n      <td>1.000000</td>\n      <td>1</td>\n      <td>0.0</td>\n      <td>13</td>\n      <td>99.9</td>\n    </tr>\n    <tr>\n      <th>1006</th>\n      <td>1.800000</td>\n      <td>5</td>\n      <td>8</td>\n      <td>1.433710</td>\n      <td>1.466667</td>\n      <td>1.000000</td>\n      <td>1</td>\n      <td>0.0</td>\n      <td>6</td>\n      <td>100.5</td>\n    </tr>\n    <tr>\n      <th>1007</th>\n      <td>1.069264</td>\n      <td>21</td>\n      <td>26</td>\n      <td>1.950728</td>\n      <td>1.887446</td>\n      <td>1.000000</td>\n      <td>1</td>\n      <td>0.0</td>\n      <td>22</td>\n      <td>99.8</td>\n    </tr>\n  </tbody>\n</table>\n<p>1008 rows × 10 columns</p>\n</div>"
     },
     "execution_count": 5,
     "metadata": {},
     "output_type": "execute_result"
    }
   ],
   "source": [
    "data_copy = data.copy()\n",
    "del data_copy['City_name']\n",
    "data_copy"
   ]
  },
  {
   "cell_type": "code",
   "execution_count": 7,
   "id": "0481a405",
   "metadata": {},
   "outputs": [
    {
     "data": {
      "text/plain": "        平均点连通性  城市度  边数量     自然连通性  平均最短路径长度     代数连通性  点连通性  连通性损失  \\\n0     4.703297   13   48  5.287729  1.472527  2.359041     3    0.0   \n1     5.418182   10   38  5.072531  1.309091  3.000000     3    0.0   \n2     2.345455   10   21  2.410666  1.618182  1.172301     2    0.0   \n3     2.095238    6   11  1.812041  1.476190  1.000000     1    0.0   \n4     1.941520   18   38  2.965315  1.777778  1.000000     1    0.0   \n...        ...  ...  ...       ...       ...       ...   ...    ...   \n1003  2.441667   15   38  3.702870  1.683333  1.000000     1    0.0   \n1004  2.102941   16   34  3.113271  1.750000  1.000000     1    0.0   \n1005  2.025641   12   25  2.768758  1.679487  1.000000     1    0.0   \n1006  1.800000    5    8  1.433710  1.466667  1.000000     1    0.0   \n1007  1.069264   21   26  1.950728  1.887446  1.000000     1    0.0   \n\n      最大组件大小（城市）  \n0             14  \n1             11  \n2             11  \n3              7  \n4             19  \n...          ...  \n1003          16  \n1004          17  \n1005          13  \n1006           6  \n1007          22  \n\n[1008 rows x 9 columns]",
      "text/html": "<div>\n<style scoped>\n    .dataframe tbody tr th:only-of-type {\n        vertical-align: middle;\n    }\n\n    .dataframe tbody tr th {\n        vertical-align: top;\n    }\n\n    .dataframe thead th {\n        text-align: right;\n    }\n</style>\n<table border=\"1\" class=\"dataframe\">\n  <thead>\n    <tr style=\"text-align: right;\">\n      <th></th>\n      <th>平均点连通性</th>\n      <th>城市度</th>\n      <th>边数量</th>\n      <th>自然连通性</th>\n      <th>平均最短路径长度</th>\n      <th>代数连通性</th>\n      <th>点连通性</th>\n      <th>连通性损失</th>\n      <th>最大组件大小（城市）</th>\n    </tr>\n  </thead>\n  <tbody>\n    <tr>\n      <th>0</th>\n      <td>4.703297</td>\n      <td>13</td>\n      <td>48</td>\n      <td>5.287729</td>\n      <td>1.472527</td>\n      <td>2.359041</td>\n      <td>3</td>\n      <td>0.0</td>\n      <td>14</td>\n    </tr>\n    <tr>\n      <th>1</th>\n      <td>5.418182</td>\n      <td>10</td>\n      <td>38</td>\n      <td>5.072531</td>\n      <td>1.309091</td>\n      <td>3.000000</td>\n      <td>3</td>\n      <td>0.0</td>\n      <td>11</td>\n    </tr>\n    <tr>\n      <th>2</th>\n      <td>2.345455</td>\n      <td>10</td>\n      <td>21</td>\n      <td>2.410666</td>\n      <td>1.618182</td>\n      <td>1.172301</td>\n      <td>2</td>\n      <td>0.0</td>\n      <td>11</td>\n    </tr>\n    <tr>\n      <th>3</th>\n      <td>2.095238</td>\n      <td>6</td>\n      <td>11</td>\n      <td>1.812041</td>\n      <td>1.476190</td>\n      <td>1.000000</td>\n      <td>1</td>\n      <td>0.0</td>\n      <td>7</td>\n    </tr>\n    <tr>\n      <th>4</th>\n      <td>1.941520</td>\n      <td>18</td>\n      <td>38</td>\n      <td>2.965315</td>\n      <td>1.777778</td>\n      <td>1.000000</td>\n      <td>1</td>\n      <td>0.0</td>\n      <td>19</td>\n    </tr>\n    <tr>\n      <th>...</th>\n      <td>...</td>\n      <td>...</td>\n      <td>...</td>\n      <td>...</td>\n      <td>...</td>\n      <td>...</td>\n      <td>...</td>\n      <td>...</td>\n      <td>...</td>\n    </tr>\n    <tr>\n      <th>1003</th>\n      <td>2.441667</td>\n      <td>15</td>\n      <td>38</td>\n      <td>3.702870</td>\n      <td>1.683333</td>\n      <td>1.000000</td>\n      <td>1</td>\n      <td>0.0</td>\n      <td>16</td>\n    </tr>\n    <tr>\n      <th>1004</th>\n      <td>2.102941</td>\n      <td>16</td>\n      <td>34</td>\n      <td>3.113271</td>\n      <td>1.750000</td>\n      <td>1.000000</td>\n      <td>1</td>\n      <td>0.0</td>\n      <td>17</td>\n    </tr>\n    <tr>\n      <th>1005</th>\n      <td>2.025641</td>\n      <td>12</td>\n      <td>25</td>\n      <td>2.768758</td>\n      <td>1.679487</td>\n      <td>1.000000</td>\n      <td>1</td>\n      <td>0.0</td>\n      <td>13</td>\n    </tr>\n    <tr>\n      <th>1006</th>\n      <td>1.800000</td>\n      <td>5</td>\n      <td>8</td>\n      <td>1.433710</td>\n      <td>1.466667</td>\n      <td>1.000000</td>\n      <td>1</td>\n      <td>0.0</td>\n      <td>6</td>\n    </tr>\n    <tr>\n      <th>1007</th>\n      <td>1.069264</td>\n      <td>21</td>\n      <td>26</td>\n      <td>1.950728</td>\n      <td>1.887446</td>\n      <td>1.000000</td>\n      <td>1</td>\n      <td>0.0</td>\n      <td>22</td>\n    </tr>\n  </tbody>\n</table>\n<p>1008 rows × 9 columns</p>\n</div>"
     },
     "execution_count": 7,
     "metadata": {},
     "output_type": "execute_result"
    }
   ],
   "source": [
    "data_x = data_copy.copy()\n",
    "del data_x['eco_value']\n",
    "data_x"
   ]
  },
  {
   "cell_type": "code",
   "execution_count": 8,
   "id": "22c47359",
   "metadata": {},
   "outputs": [
    {
     "data": {
      "text/plain": "<AxesSubplot:>"
     },
     "execution_count": 8,
     "metadata": {},
     "output_type": "execute_result"
    },
    {
     "data": {
      "text/plain": "<Figure size 640x480 with 1 Axes>",
      "image/png": "[encoded data removed]"
     },
     "metadata": {},
     "output_type": "display_data"
    }
   ],
   "source": [
    "data_y = data_copy['eco_value']\n",
    "data_y.hist()"
   ]
  },
  {
   "cell_type": "code",
   "execution_count": 9,
   "id": "d5efc4df",
   "metadata": {},
   "outputs": [
    {
     "data": {
      "text/plain": "array([[0.46346383, 0.0915493 , 0.05328798, ..., 0.28571429, 0.        ,\n        0.08571429],\n       [0.55293098, 0.07042254, 0.04195011, ..., 0.28571429, 0.        ,\n        0.06428571],\n       [0.16838227, 0.07042254, 0.02267574, ..., 0.14285714, 0.        ,\n        0.06428571],\n       ...,\n       [0.12835794, 0.08450704, 0.02721088, ..., 0.        , 0.        ,\n        0.07857143],\n       [0.10011919, 0.03521127, 0.00793651, ..., 0.        , 0.        ,\n        0.02857143],\n       [0.00866833, 0.14788732, 0.02834467, ..., 0.        , 0.        ,\n        0.14285714]])"
     },
     "execution_count": 9,
     "metadata": {},
     "output_type": "execute_result"
    }
   ],
   "source": [
    "from sklearn.preprocessing import MinMaxScaler\n",
    "scaler = MinMaxScaler()\n",
    "data_x = scaler.fit_transform(data_x)\n",
    "data_x"
   ]
  },
  {
   "cell_type": "code",
   "execution_count": 12,
   "id": "356b004b",
   "metadata": {},
   "outputs": [],
   "source": [
    "# 随机森林回归\n",
    "from sklearn.ensemble import BaggingRegressor,RandomForestRegressor \n",
    "from sklearn.model_selection import cross_val_score \n",
    "clf = RandomForestRegressor()\n",
    "clf = clf.fit(data_x,data_y)\n",
    "# scores = cross_val_score(clf, X=data_x, y=data_y, verbose=0, cv = 5, scoring='neg_mean_squared_error')\n",
    "# scores.mean()\n",
    "# data.columns[1:]\n",
    "# clf.feature_importances_"
   ]
  },
  {
   "cell_type": "code",
   "execution_count": 9,
   "id": "add1f821",
   "metadata": {},
   "outputs": [
    {
     "data": {
      "text/plain": [
       "-1.8341098053929863"
      ]
     },
     "execution_count": 9,
     "metadata": {},
     "output_type": "execute_result"
    }
   ],
   "source": [
    "# 线性回归\n",
    "from sklearn.linear_model import LinearRegression\n",
    "clf = LinearRegression()\n",
    "scores = cross_val_score(clf, X=data_x, y=data_y, verbose=0, cv = 5, scoring='neg_mean_squared_error')\n",
    "scores.mean()"
   ]
  },
  {
   "cell_type": "code",
   "execution_count": 10,
   "id": "402f77ae",
   "metadata": {},
   "outputs": [
    {
     "data": {
      "text/plain": [
       "-1.7604138180385198"
      ]
     },
     "execution_count": 10,
     "metadata": {},
     "output_type": "execute_result"
    }
   ],
   "source": [
    "# KNN回归\n",
    "from sklearn.neighbors import KNeighborsRegressor\n",
    "clf = KNeighborsRegressor()\n",
    "scores = cross_val_score(clf, X=data_x, y=data_y, verbose=0, cv = 5, scoring='neg_mean_squared_error')\n",
    "scores.mean()"
   ]
  },
  {
   "cell_type": "code",
   "execution_count": 11,
   "id": "82b62e50",
   "metadata": {},
   "outputs": [
    {
     "data": {
      "text/plain": [
       "-1.5311385468458905"
      ]
     },
     "execution_count": 11,
     "metadata": {},
     "output_type": "execute_result"
    }
   ],
   "source": [
    "# SVM\n",
    "from sklearn.svm import SVR\n",
    "clf = SVR()\n",
    "scores = cross_val_score(clf, X=data_x, y=data_y, verbose=0, cv = 5, scoring='neg_mean_squared_error')\n",
    "scores.mean()"
   ]
  },
  {
   "cell_type": "code",
   "execution_count": 13,
   "id": "7588ca2a",
   "metadata": {},
   "outputs": [
    {
     "data": {
      "text/plain": "array([-0.67028514, -1.42935302, -1.80066232, -0.85968751, -0.49816266,\n       -0.95279956, -0.60532004, -0.48858189, -4.01626408, -2.5110941 ])"
     },
     "execution_count": 13,
     "metadata": {},
     "output_type": "execute_result"
    }
   ],
   "source": [
    "#岭回归\n",
    "from sklearn.linear_model import Ridge\n",
    "clf = Ridge()\n",
    "scores = cross_val_score(clf, X=data_x, y=data_y, verbose=0, cv = 10, scoring='neg_mean_squared_error')\n",
    "scores"
   ]
  },
  {
   "cell_type": "code",
   "execution_count": 1,
   "id": "45a15db0",
   "metadata": {},
   "outputs": [
    {
     "ename": "NameError",
     "evalue": "name 'cross_val_score' is not defined",
     "output_type": "error",
     "traceback": [
      "\u001B[1;31m---------------------------------------------------------------------------\u001B[0m",
      "\u001B[1;31mNameError\u001B[0m                                 Traceback (most recent call last)",
      "\u001B[1;32m~\\AppData\\Local\\Temp\\ipykernel_5780\\898101760.py\u001B[0m in \u001B[0;36m<module>\u001B[1;34m\u001B[0m\n\u001B[0;32m      2\u001B[0m \u001B[1;32mfrom\u001B[0m \u001B[0msklearn\u001B[0m\u001B[1;33m.\u001B[0m\u001B[0mlinear_model\u001B[0m \u001B[1;32mimport\u001B[0m \u001B[0mLasso\u001B[0m\u001B[1;33m\u001B[0m\u001B[1;33m\u001B[0m\u001B[0m\n\u001B[0;32m      3\u001B[0m \u001B[0mclf\u001B[0m \u001B[1;33m=\u001B[0m \u001B[0mLasso\u001B[0m\u001B[1;33m(\u001B[0m\u001B[1;33m)\u001B[0m\u001B[1;33m\u001B[0m\u001B[1;33m\u001B[0m\u001B[0m\n\u001B[1;32m----> 4\u001B[1;33m \u001B[0mscores\u001B[0m \u001B[1;33m=\u001B[0m \u001B[0mcross_val_score\u001B[0m\u001B[1;33m(\u001B[0m\u001B[0mclf\u001B[0m\u001B[1;33m,\u001B[0m \u001B[0mX\u001B[0m\u001B[1;33m=\u001B[0m\u001B[0mdata_x\u001B[0m\u001B[1;33m,\u001B[0m \u001B[0my\u001B[0m\u001B[1;33m=\u001B[0m\u001B[0mdata_y\u001B[0m\u001B[1;33m,\u001B[0m \u001B[0mverbose\u001B[0m\u001B[1;33m=\u001B[0m\u001B[1;36m0\u001B[0m\u001B[1;33m,\u001B[0m \u001B[0mcv\u001B[0m \u001B[1;33m=\u001B[0m \u001B[1;36m10\u001B[0m\u001B[1;33m,\u001B[0m \u001B[0mscoring\u001B[0m\u001B[1;33m=\u001B[0m\u001B[1;34m'neg_mean_squared_error'\u001B[0m\u001B[1;33m)\u001B[0m\u001B[1;33m\u001B[0m\u001B[1;33m\u001B[0m\u001B[0m\n\u001B[0m\u001B[0;32m      5\u001B[0m \u001B[0mscores\u001B[0m\u001B[1;33m.\u001B[0m\u001B[0mmean\u001B[0m\u001B[1;33m(\u001B[0m\u001B[1;33m)\u001B[0m\u001B[1;33m\u001B[0m\u001B[1;33m\u001B[0m\u001B[0m\n",
      "\u001B[1;31mNameError\u001B[0m: name 'cross_val_score' is not defined"
     ]
    }
   ],
   "source": [
    "#Lasso 回归\n",
    "from sklearn.linear_model import Lasso\n",
    "clf = Lasso()\n",
    "scores = cross_val_score(clf, X=data_x, y=data_y, verbose=0, cv = 10, scoring='neg_mean_squared_error')\n",
    "scores.mean()"
   ]
  },
  {
   "cell_type": "code",
   "execution_count": null,
   "id": "66359f35",
   "metadata": {
    "pycharm": {
     "is_executing": true
    }
   },
   "outputs": [],
   "source": []
  },
  {
   "cell_type": "code",
   "execution_count": 21,
   "id": "fb079202",
   "metadata": {},
   "outputs": [
    {
     "ename": "TypeError",
     "evalue": "make_intrinsic_template() missing 1 required positional argument: 'kwargs'",
     "output_type": "error",
     "traceback": [
      "\u001B[1;31m---------------------------------------------------------------------------\u001B[0m",
      "\u001B[1;31mTypeError\u001B[0m                                 Traceback (most recent call last)",
      "\u001B[1;32mC:\\Users\\SHENGY~1\\AppData\\Local\\Temp/ipykernel_7796/699245124.py\u001B[0m in \u001B[0;36m<module>\u001B[1;34m\u001B[0m\n\u001B[1;32m----> 1\u001B[1;33m \u001B[1;32mimport\u001B[0m \u001B[0mshap\u001B[0m\u001B[1;33m\u001B[0m\u001B[1;33m\u001B[0m\u001B[0m\n\u001B[0m\u001B[0;32m      2\u001B[0m \u001B[1;31m# explainer = shap.TreeExplainer(model)\u001B[0m\u001B[1;33m\u001B[0m\u001B[1;33m\u001B[0m\u001B[0m\n\u001B[0;32m      3\u001B[0m \u001B[1;31m# # compute SHAP values\u001B[0m\u001B[1;33m\u001B[0m\u001B[1;33m\u001B[0m\u001B[0m\n\u001B[0;32m      4\u001B[0m \u001B[1;31m# explainer = shap.Explainer(model, data_x)\u001B[0m\u001B[1;33m\u001B[0m\u001B[1;33m\u001B[0m\u001B[0m\n\u001B[0;32m      5\u001B[0m \u001B[1;31m# shap_values = explainer(X)\u001B[0m\u001B[1;33m\u001B[0m\u001B[1;33m\u001B[0m\u001B[0m\n",
      "\u001B[1;32mD:\\Software\\anaconda\\envs\\lp\\lib\\site-packages\\shap\\__init__.py\u001B[0m in \u001B[0;36m<module>\u001B[1;34m\u001B[0m\n\u001B[0;32m     10\u001B[0m     \u001B[0mwarnings\u001B[0m\u001B[1;33m.\u001B[0m\u001B[0mwarn\u001B[0m\u001B[1;33m(\u001B[0m\u001B[1;34m\"As of version 0.29.0 shap only supports Python 3 (not 2)!\"\u001B[0m\u001B[1;33m)\u001B[0m\u001B[1;33m\u001B[0m\u001B[1;33m\u001B[0m\u001B[0m\n\u001B[0;32m     11\u001B[0m \u001B[1;33m\u001B[0m\u001B[0m\n\u001B[1;32m---> 12\u001B[1;33m \u001B[1;32mfrom\u001B[0m \u001B[1;33m.\u001B[0m\u001B[0m_explanation\u001B[0m \u001B[1;32mimport\u001B[0m \u001B[0mExplanation\u001B[0m\u001B[1;33m,\u001B[0m \u001B[0mCohorts\u001B[0m\u001B[1;33m\u001B[0m\u001B[1;33m\u001B[0m\u001B[0m\n\u001B[0m\u001B[0;32m     13\u001B[0m \u001B[1;33m\u001B[0m\u001B[0m\n\u001B[0;32m     14\u001B[0m \u001B[1;31m# explainers\u001B[0m\u001B[1;33m\u001B[0m\u001B[1;33m\u001B[0m\u001B[0m\n",
      "\u001B[1;32mD:\\Software\\anaconda\\envs\\lp\\lib\\site-packages\\shap\\_explanation.py\u001B[0m in \u001B[0;36m<module>\u001B[1;34m\u001B[0m\n\u001B[0;32m     10\u001B[0m \u001B[1;32mfrom\u001B[0m \u001B[0mslicer\u001B[0m \u001B[1;32mimport\u001B[0m \u001B[0mSlicer\u001B[0m\u001B[1;33m,\u001B[0m \u001B[0mAlias\u001B[0m\u001B[1;33m,\u001B[0m \u001B[0mObj\u001B[0m\u001B[1;33m\u001B[0m\u001B[1;33m\u001B[0m\u001B[0m\n\u001B[0;32m     11\u001B[0m \u001B[1;31m# from ._order import Order\u001B[0m\u001B[1;33m\u001B[0m\u001B[1;33m\u001B[0m\u001B[0m\n\u001B[1;32m---> 12\u001B[1;33m \u001B[1;32mfrom\u001B[0m \u001B[1;33m.\u001B[0m\u001B[0mutils\u001B[0m\u001B[1;33m.\u001B[0m\u001B[0m_general\u001B[0m \u001B[1;32mimport\u001B[0m \u001B[0mOpChain\u001B[0m\u001B[1;33m\u001B[0m\u001B[1;33m\u001B[0m\u001B[0m\n\u001B[0m\u001B[0;32m     13\u001B[0m \u001B[1;32mfrom\u001B[0m \u001B[1;33m.\u001B[0m\u001B[0mutils\u001B[0m\u001B[1;33m.\u001B[0m\u001B[0m_exceptions\u001B[0m \u001B[1;32mimport\u001B[0m \u001B[0mDimensionError\u001B[0m\u001B[1;33m\u001B[0m\u001B[1;33m\u001B[0m\u001B[0m\n\u001B[0;32m     14\u001B[0m \u001B[1;33m\u001B[0m\u001B[0m\n",
      "\u001B[1;32mD:\\Software\\anaconda\\envs\\lp\\lib\\site-packages\\shap\\utils\\__init__.py\u001B[0m in \u001B[0;36m<module>\u001B[1;34m\u001B[0m\n\u001B[1;32m----> 1\u001B[1;33m \u001B[1;32mfrom\u001B[0m \u001B[1;33m.\u001B[0m\u001B[0m_clustering\u001B[0m \u001B[1;32mimport\u001B[0m \u001B[0mhclust_ordering\u001B[0m\u001B[1;33m,\u001B[0m \u001B[0mpartition_tree\u001B[0m\u001B[1;33m,\u001B[0m \u001B[0mpartition_tree_shuffle\u001B[0m\u001B[1;33m,\u001B[0m \u001B[0mdelta_minimization_order\u001B[0m\u001B[1;33m,\u001B[0m \u001B[0mhclust\u001B[0m\u001B[1;33m\u001B[0m\u001B[1;33m\u001B[0m\u001B[0m\n\u001B[0m\u001B[0;32m      2\u001B[0m \u001B[1;32mfrom\u001B[0m \u001B[1;33m.\u001B[0m\u001B[0m_general\u001B[0m \u001B[1;32mimport\u001B[0m \u001B[0mapproximate_interactions\u001B[0m\u001B[1;33m,\u001B[0m \u001B[0mpotential_interactions\u001B[0m\u001B[1;33m,\u001B[0m \u001B[0msample\u001B[0m\u001B[1;33m,\u001B[0m \u001B[0msafe_isinstance\u001B[0m\u001B[1;33m,\u001B[0m \u001B[0massert_import\u001B[0m\u001B[1;33m,\u001B[0m \u001B[0mrecord_import_error\u001B[0m\u001B[1;33m\u001B[0m\u001B[1;33m\u001B[0m\u001B[0m\n\u001B[0;32m      3\u001B[0m \u001B[1;32mfrom\u001B[0m \u001B[1;33m.\u001B[0m\u001B[0m_general\u001B[0m \u001B[1;32mimport\u001B[0m \u001B[0mshapley_coefficients\u001B[0m\u001B[1;33m,\u001B[0m \u001B[0mconvert_name\u001B[0m\u001B[1;33m,\u001B[0m \u001B[0mformat_value\u001B[0m\u001B[1;33m,\u001B[0m \u001B[0mordinal_str\u001B[0m\u001B[1;33m,\u001B[0m \u001B[0mOpChain\u001B[0m\u001B[1;33m,\u001B[0m \u001B[0msuppress_stderr\u001B[0m\u001B[1;33m\u001B[0m\u001B[1;33m\u001B[0m\u001B[0m\n\u001B[0;32m      4\u001B[0m \u001B[1;32mfrom\u001B[0m \u001B[1;33m.\u001B[0m\u001B[0m_show_progress\u001B[0m \u001B[1;32mimport\u001B[0m \u001B[0mshow_progress\u001B[0m\u001B[1;33m\u001B[0m\u001B[1;33m\u001B[0m\u001B[0m\n\u001B[0;32m      5\u001B[0m \u001B[1;32mfrom\u001B[0m \u001B[1;33m.\u001B[0m\u001B[0m_masked_model\u001B[0m \u001B[1;32mimport\u001B[0m \u001B[0mMaskedModel\u001B[0m\u001B[1;33m,\u001B[0m \u001B[0mmake_masks\u001B[0m\u001B[1;33m\u001B[0m\u001B[1;33m\u001B[0m\u001B[0m\n",
      "\u001B[1;32mD:\\Software\\anaconda\\envs\\lp\\lib\\site-packages\\shap\\utils\\_clustering.py\u001B[0m in \u001B[0;36m<module>\u001B[1;34m\u001B[0m\n\u001B[0;32m      2\u001B[0m \u001B[1;32mimport\u001B[0m \u001B[0mscipy\u001B[0m \u001B[1;32mas\u001B[0m \u001B[0msp\u001B[0m\u001B[1;33m\u001B[0m\u001B[1;33m\u001B[0m\u001B[0m\n\u001B[0;32m      3\u001B[0m \u001B[1;32mfrom\u001B[0m \u001B[0mscipy\u001B[0m\u001B[1;33m.\u001B[0m\u001B[0mspatial\u001B[0m\u001B[1;33m.\u001B[0m\u001B[0mdistance\u001B[0m \u001B[1;32mimport\u001B[0m \u001B[0mpdist\u001B[0m\u001B[1;33m\u001B[0m\u001B[1;33m\u001B[0m\u001B[0m\n\u001B[1;32m----> 4\u001B[1;33m \u001B[1;32mfrom\u001B[0m \u001B[0mnumba\u001B[0m \u001B[1;32mimport\u001B[0m \u001B[0mjit\u001B[0m\u001B[1;33m\u001B[0m\u001B[1;33m\u001B[0m\u001B[0m\n\u001B[0m\u001B[0;32m      5\u001B[0m \u001B[1;32mimport\u001B[0m \u001B[0msklearn\u001B[0m\u001B[1;33m\u001B[0m\u001B[1;33m\u001B[0m\u001B[0m\n\u001B[0;32m      6\u001B[0m \u001B[1;32mimport\u001B[0m \u001B[0mwarnings\u001B[0m\u001B[1;33m\u001B[0m\u001B[1;33m\u001B[0m\u001B[0m\n",
      "\u001B[1;32mD:\\Software\\anaconda\\envs\\lp\\lib\\site-packages\\numba\\__init__.py\u001B[0m in \u001B[0;36m<module>\u001B[1;34m\u001B[0m\n\u001B[0;32m     37\u001B[0m \u001B[1;33m\u001B[0m\u001B[0m\n\u001B[0;32m     38\u001B[0m \u001B[1;31m# Re-export decorators\u001B[0m\u001B[1;33m\u001B[0m\u001B[1;33m\u001B[0m\u001B[0m\n\u001B[1;32m---> 39\u001B[1;33m from numba.core.decorators import (cfunc, generated_jit, jit, njit, stencil,\n\u001B[0m\u001B[0;32m     40\u001B[0m                                    jit_module)\n\u001B[0;32m     41\u001B[0m \u001B[1;33m\u001B[0m\u001B[0m\n",
      "\u001B[1;32mD:\\Software\\anaconda\\envs\\lp\\lib\\site-packages\\numba\\core\\decorators.py\u001B[0m in \u001B[0;36m<module>\u001B[1;34m\u001B[0m\n\u001B[0;32m     10\u001B[0m \u001B[1;33m\u001B[0m\u001B[0m\n\u001B[0;32m     11\u001B[0m \u001B[1;32mfrom\u001B[0m \u001B[0mnumba\u001B[0m\u001B[1;33m.\u001B[0m\u001B[0mcore\u001B[0m\u001B[1;33m.\u001B[0m\u001B[0merrors\u001B[0m \u001B[1;32mimport\u001B[0m \u001B[0mDeprecationError\u001B[0m\u001B[1;33m,\u001B[0m \u001B[0mNumbaDeprecationWarning\u001B[0m\u001B[1;33m\u001B[0m\u001B[1;33m\u001B[0m\u001B[0m\n\u001B[1;32m---> 12\u001B[1;33m \u001B[1;32mfrom\u001B[0m \u001B[0mnumba\u001B[0m\u001B[1;33m.\u001B[0m\u001B[0mstencils\u001B[0m\u001B[1;33m.\u001B[0m\u001B[0mstencil\u001B[0m \u001B[1;32mimport\u001B[0m \u001B[0mstencil\u001B[0m\u001B[1;33m\u001B[0m\u001B[1;33m\u001B[0m\u001B[0m\n\u001B[0m\u001B[0;32m     13\u001B[0m \u001B[1;32mfrom\u001B[0m \u001B[0mnumba\u001B[0m\u001B[1;33m.\u001B[0m\u001B[0mcore\u001B[0m \u001B[1;32mimport\u001B[0m \u001B[0mconfig\u001B[0m\u001B[1;33m,\u001B[0m \u001B[0mextending\u001B[0m\u001B[1;33m,\u001B[0m \u001B[0msigutils\u001B[0m\u001B[1;33m,\u001B[0m \u001B[0mregistry\u001B[0m\u001B[1;33m\u001B[0m\u001B[1;33m\u001B[0m\u001B[0m\n\u001B[0;32m     14\u001B[0m \u001B[1;33m\u001B[0m\u001B[0m\n",
      "\u001B[1;32mD:\\Software\\anaconda\\envs\\lp\\lib\\site-packages\\numba\\stencils\\stencil.py\u001B[0m in \u001B[0;36m<module>\u001B[1;34m\u001B[0m\n\u001B[0;32m      9\u001B[0m \u001B[1;32mfrom\u001B[0m \u001B[0mllvmlite\u001B[0m \u001B[1;32mimport\u001B[0m \u001B[0mir\u001B[0m \u001B[1;32mas\u001B[0m \u001B[0mlir\u001B[0m\u001B[1;33m\u001B[0m\u001B[1;33m\u001B[0m\u001B[0m\n\u001B[0;32m     10\u001B[0m \u001B[1;33m\u001B[0m\u001B[0m\n\u001B[1;32m---> 11\u001B[1;33m \u001B[1;32mfrom\u001B[0m \u001B[0mnumba\u001B[0m\u001B[1;33m.\u001B[0m\u001B[0mcore\u001B[0m \u001B[1;32mimport\u001B[0m \u001B[0mtypes\u001B[0m\u001B[1;33m,\u001B[0m \u001B[0mtyping\u001B[0m\u001B[1;33m,\u001B[0m \u001B[0mutils\u001B[0m\u001B[1;33m,\u001B[0m \u001B[0mir\u001B[0m\u001B[1;33m,\u001B[0m \u001B[0mconfig\u001B[0m\u001B[1;33m,\u001B[0m \u001B[0mir_utils\u001B[0m\u001B[1;33m,\u001B[0m \u001B[0mregistry\u001B[0m\u001B[1;33m\u001B[0m\u001B[1;33m\u001B[0m\u001B[0m\n\u001B[0m\u001B[0;32m     12\u001B[0m from numba.core.typing.templates import (CallableTemplate, signature,\n\u001B[0;32m     13\u001B[0m                                          infer_global, AbstractTemplate)\n",
      "\u001B[1;32mD:\\Software\\anaconda\\envs\\lp\\lib\\site-packages\\numba\\core\\registry.py\u001B[0m in \u001B[0;36m<module>\u001B[1;34m\u001B[0m\n\u001B[0;32m      2\u001B[0m \u001B[1;33m\u001B[0m\u001B[0m\n\u001B[0;32m      3\u001B[0m \u001B[1;32mfrom\u001B[0m \u001B[0mnumba\u001B[0m\u001B[1;33m.\u001B[0m\u001B[0mcore\u001B[0m\u001B[1;33m.\u001B[0m\u001B[0mdescriptors\u001B[0m \u001B[1;32mimport\u001B[0m \u001B[0mTargetDescriptor\u001B[0m\u001B[1;33m\u001B[0m\u001B[1;33m\u001B[0m\u001B[0m\n\u001B[1;32m----> 4\u001B[1;33m \u001B[1;32mfrom\u001B[0m \u001B[0mnumba\u001B[0m\u001B[1;33m.\u001B[0m\u001B[0mcore\u001B[0m \u001B[1;32mimport\u001B[0m \u001B[0mutils\u001B[0m\u001B[1;33m,\u001B[0m \u001B[0mtyping\u001B[0m\u001B[1;33m,\u001B[0m \u001B[0mdispatcher\u001B[0m\u001B[1;33m,\u001B[0m \u001B[0mcpu\u001B[0m\u001B[1;33m\u001B[0m\u001B[1;33m\u001B[0m\u001B[0m\n\u001B[0m\u001B[0;32m      5\u001B[0m \u001B[1;33m\u001B[0m\u001B[0m\n\u001B[0;32m      6\u001B[0m \u001B[1;31m# -----------------------------------------------------------------------------\u001B[0m\u001B[1;33m\u001B[0m\u001B[1;33m\u001B[0m\u001B[0m\n",
      "\u001B[1;32mD:\\Software\\anaconda\\envs\\lp\\lib\\site-packages\\numba\\core\\dispatcher.py\u001B[0m in \u001B[0;36m<module>\u001B[1;34m\u001B[0m\n\u001B[0;32m     14\u001B[0m \u001B[1;33m\u001B[0m\u001B[0m\n\u001B[0;32m     15\u001B[0m \u001B[1;32mfrom\u001B[0m \u001B[0mnumba\u001B[0m \u001B[1;32mimport\u001B[0m \u001B[0m_dispatcher\u001B[0m\u001B[1;33m\u001B[0m\u001B[1;33m\u001B[0m\u001B[0m\n\u001B[1;32m---> 16\u001B[1;33m \u001B[1;32mfrom\u001B[0m \u001B[0mnumba\u001B[0m\u001B[1;33m.\u001B[0m\u001B[0mcore\u001B[0m \u001B[1;32mimport\u001B[0m \u001B[0mutils\u001B[0m\u001B[1;33m,\u001B[0m \u001B[0mtypes\u001B[0m\u001B[1;33m,\u001B[0m \u001B[0merrors\u001B[0m\u001B[1;33m,\u001B[0m \u001B[0mtyping\u001B[0m\u001B[1;33m,\u001B[0m \u001B[0mserialize\u001B[0m\u001B[1;33m,\u001B[0m \u001B[0mconfig\u001B[0m\u001B[1;33m,\u001B[0m \u001B[0mcompiler\u001B[0m\u001B[1;33m,\u001B[0m \u001B[0msigutils\u001B[0m\u001B[1;33m\u001B[0m\u001B[1;33m\u001B[0m\u001B[0m\n\u001B[0m\u001B[0;32m     17\u001B[0m \u001B[1;32mfrom\u001B[0m \u001B[0mnumba\u001B[0m\u001B[1;33m.\u001B[0m\u001B[0mcore\u001B[0m\u001B[1;33m.\u001B[0m\u001B[0mcompiler_lock\u001B[0m \u001B[1;32mimport\u001B[0m \u001B[0mglobal_compiler_lock\u001B[0m\u001B[1;33m\u001B[0m\u001B[1;33m\u001B[0m\u001B[0m\n\u001B[0;32m     18\u001B[0m \u001B[1;32mfrom\u001B[0m \u001B[0mnumba\u001B[0m\u001B[1;33m.\u001B[0m\u001B[0mcore\u001B[0m\u001B[1;33m.\u001B[0m\u001B[0mtypeconv\u001B[0m\u001B[1;33m.\u001B[0m\u001B[0mrules\u001B[0m \u001B[1;32mimport\u001B[0m \u001B[0mdefault_type_manager\u001B[0m\u001B[1;33m\u001B[0m\u001B[1;33m\u001B[0m\u001B[0m\n",
      "\u001B[1;32mD:\\Software\\anaconda\\envs\\lp\\lib\\site-packages\\numba\\core\\compiler.py\u001B[0m in \u001B[0;36m<module>\u001B[1;34m\u001B[0m\n\u001B[0;32m      4\u001B[0m \u001B[1;32mfrom\u001B[0m \u001B[0mnumba\u001B[0m\u001B[1;33m.\u001B[0m\u001B[0mcore\u001B[0m\u001B[1;33m.\u001B[0m\u001B[0mtracing\u001B[0m \u001B[1;32mimport\u001B[0m \u001B[0mevent\u001B[0m\u001B[1;33m\u001B[0m\u001B[1;33m\u001B[0m\u001B[0m\n\u001B[0;32m      5\u001B[0m \u001B[1;33m\u001B[0m\u001B[0m\n\u001B[1;32m----> 6\u001B[1;33m from numba.core import (utils, errors, typing, interpreter, bytecode, postproc,\n\u001B[0m\u001B[0;32m      7\u001B[0m                         config, callconv, cpu)\n\u001B[0;32m      8\u001B[0m \u001B[1;32mfrom\u001B[0m \u001B[0mnumba\u001B[0m\u001B[1;33m.\u001B[0m\u001B[0mparfors\u001B[0m\u001B[1;33m.\u001B[0m\u001B[0mparfor\u001B[0m \u001B[1;32mimport\u001B[0m \u001B[0mParforDiagnostics\u001B[0m\u001B[1;33m\u001B[0m\u001B[1;33m\u001B[0m\u001B[0m\n",
      "\u001B[1;32mD:\\Software\\anaconda\\envs\\lp\\lib\\site-packages\\numba\\core\\interpreter.py\u001B[0m in \u001B[0;36m<module>\u001B[1;34m\u001B[0m\n\u001B[0;32m     10\u001B[0m                               INPLACE_BINOPS_TO_OPERATORS,)\n\u001B[0;32m     11\u001B[0m \u001B[1;32mfrom\u001B[0m \u001B[0mnumba\u001B[0m\u001B[1;33m.\u001B[0m\u001B[0mcore\u001B[0m\u001B[1;33m.\u001B[0m\u001B[0mbyteflow\u001B[0m \u001B[1;32mimport\u001B[0m \u001B[0mFlow\u001B[0m\u001B[1;33m,\u001B[0m \u001B[0mAdaptDFA\u001B[0m\u001B[1;33m,\u001B[0m \u001B[0mAdaptCFA\u001B[0m\u001B[1;33m\u001B[0m\u001B[1;33m\u001B[0m\u001B[0m\n\u001B[1;32m---> 12\u001B[1;33m \u001B[1;32mfrom\u001B[0m \u001B[0mnumba\u001B[0m\u001B[1;33m.\u001B[0m\u001B[0mcore\u001B[0m\u001B[1;33m.\u001B[0m\u001B[0munsafe\u001B[0m \u001B[1;32mimport\u001B[0m \u001B[0meh\u001B[0m\u001B[1;33m\u001B[0m\u001B[1;33m\u001B[0m\u001B[0m\n\u001B[0m\u001B[0;32m     13\u001B[0m \u001B[1;32mfrom\u001B[0m \u001B[0mnumba\u001B[0m\u001B[1;33m.\u001B[0m\u001B[0mcpython\u001B[0m\u001B[1;33m.\u001B[0m\u001B[0munsafe\u001B[0m\u001B[1;33m.\u001B[0m\u001B[0mtuple\u001B[0m \u001B[1;32mimport\u001B[0m \u001B[0munpack_single_tuple\u001B[0m\u001B[1;33m\u001B[0m\u001B[1;33m\u001B[0m\u001B[0m\n\u001B[0;32m     14\u001B[0m \u001B[1;33m\u001B[0m\u001B[0m\n",
      "\u001B[1;32mD:\\Software\\anaconda\\envs\\lp\\lib\\site-packages\\numba\\core\\unsafe\\eh.py\u001B[0m in \u001B[0;36m<module>\u001B[1;34m\u001B[0m\n\u001B[0;32m      8\u001B[0m \u001B[1;33m\u001B[0m\u001B[0m\n\u001B[0;32m      9\u001B[0m \u001B[1;33m@\u001B[0m\u001B[0mintrinsic\u001B[0m\u001B[1;33m\u001B[0m\u001B[1;33m\u001B[0m\u001B[0m\n\u001B[1;32m---> 10\u001B[1;33m \u001B[1;32mdef\u001B[0m \u001B[0mexception_check\u001B[0m\u001B[1;33m(\u001B[0m\u001B[0mtypingctx\u001B[0m\u001B[1;33m)\u001B[0m\u001B[1;33m:\u001B[0m\u001B[1;33m\u001B[0m\u001B[1;33m\u001B[0m\u001B[0m\n\u001B[0m\u001B[0;32m     11\u001B[0m     \"\"\"An intrinsic to check if an exception is raised\n\u001B[0;32m     12\u001B[0m     \"\"\"\n",
      "\u001B[1;32mD:\\Software\\anaconda\\envs\\lp\\lib\\site-packages\\numba\\core\\extending.py\u001B[0m in \u001B[0;36mintrinsic\u001B[1;34m(*args, **kwargs)\u001B[0m\n\u001B[0;32m    390\u001B[0m     \u001B[1;32mif\u001B[0m \u001B[1;32mnot\u001B[0m \u001B[0mkwargs\u001B[0m\u001B[1;33m:\u001B[0m\u001B[1;33m\u001B[0m\u001B[1;33m\u001B[0m\u001B[0m\n\u001B[0;32m    391\u001B[0m         \u001B[1;31m# No option is given\u001B[0m\u001B[1;33m\u001B[0m\u001B[1;33m\u001B[0m\u001B[0m\n\u001B[1;32m--> 392\u001B[1;33m         \u001B[1;32mreturn\u001B[0m \u001B[0m_intrinsic\u001B[0m\u001B[1;33m(\u001B[0m\u001B[1;33m*\u001B[0m\u001B[0margs\u001B[0m\u001B[1;33m)\u001B[0m\u001B[1;33m\u001B[0m\u001B[1;33m\u001B[0m\u001B[0m\n\u001B[0m\u001B[0;32m    393\u001B[0m     \u001B[1;32melse\u001B[0m\u001B[1;33m:\u001B[0m\u001B[1;33m\u001B[0m\u001B[1;33m\u001B[0m\u001B[0m\n\u001B[0;32m    394\u001B[0m         \u001B[1;31m# options are given, create a new callable to recv the\u001B[0m\u001B[1;33m\u001B[0m\u001B[1;33m\u001B[0m\u001B[0m\n",
      "\u001B[1;32mD:\\Software\\anaconda\\envs\\lp\\lib\\site-packages\\numba\\core\\extending.py\u001B[0m in \u001B[0;36m_intrinsic\u001B[1;34m(func)\u001B[0m\n\u001B[0;32m    385\u001B[0m         \u001B[0mname\u001B[0m \u001B[1;33m=\u001B[0m \u001B[0mgetattr\u001B[0m\u001B[1;33m(\u001B[0m\u001B[0mfunc\u001B[0m\u001B[1;33m,\u001B[0m \u001B[1;34m'__name__'\u001B[0m\u001B[1;33m,\u001B[0m \u001B[0mstr\u001B[0m\u001B[1;33m(\u001B[0m\u001B[0mfunc\u001B[0m\u001B[1;33m)\u001B[0m\u001B[1;33m)\u001B[0m\u001B[1;33m\u001B[0m\u001B[1;33m\u001B[0m\u001B[0m\n\u001B[0;32m    386\u001B[0m         \u001B[0mllc\u001B[0m \u001B[1;33m=\u001B[0m \u001B[0m_Intrinsic\u001B[0m\u001B[1;33m(\u001B[0m\u001B[0mname\u001B[0m\u001B[1;33m,\u001B[0m \u001B[0mfunc\u001B[0m\u001B[1;33m,\u001B[0m \u001B[1;33m**\u001B[0m\u001B[0mkwargs\u001B[0m\u001B[1;33m)\u001B[0m\u001B[1;33m\u001B[0m\u001B[1;33m\u001B[0m\u001B[0m\n\u001B[1;32m--> 387\u001B[1;33m         \u001B[0mllc\u001B[0m\u001B[1;33m.\u001B[0m\u001B[0m_register\u001B[0m\u001B[1;33m(\u001B[0m\u001B[1;33m)\u001B[0m\u001B[1;33m\u001B[0m\u001B[1;33m\u001B[0m\u001B[0m\n\u001B[0m\u001B[0;32m    388\u001B[0m         \u001B[1;32mreturn\u001B[0m \u001B[0mllc\u001B[0m\u001B[1;33m\u001B[0m\u001B[1;33m\u001B[0m\u001B[0m\n\u001B[0;32m    389\u001B[0m \u001B[1;33m\u001B[0m\u001B[0m\n",
      "\u001B[1;32mD:\\Software\\anaconda\\envs\\lp\\lib\\site-packages\\numba\\core\\extending.py\u001B[0m in \u001B[0;36m_register\u001B[1;34m(self)\u001B[0m\n\u001B[0;32m    306\u001B[0m                                                  infer_global)\n\u001B[0;32m    307\u001B[0m \u001B[1;33m\u001B[0m\u001B[0m\n\u001B[1;32m--> 308\u001B[1;33m         \u001B[0mtemplate\u001B[0m \u001B[1;33m=\u001B[0m \u001B[0mmake_intrinsic_template\u001B[0m\u001B[1;33m(\u001B[0m\u001B[0mself\u001B[0m\u001B[1;33m,\u001B[0m \u001B[0mself\u001B[0m\u001B[1;33m.\u001B[0m\u001B[0m_defn\u001B[0m\u001B[1;33m,\u001B[0m \u001B[0mself\u001B[0m\u001B[1;33m.\u001B[0m\u001B[0m_name\u001B[0m\u001B[1;33m)\u001B[0m\u001B[1;33m\u001B[0m\u001B[1;33m\u001B[0m\u001B[0m\n\u001B[0m\u001B[0;32m    309\u001B[0m         \u001B[0minfer\u001B[0m\u001B[1;33m(\u001B[0m\u001B[0mtemplate\u001B[0m\u001B[1;33m)\u001B[0m\u001B[1;33m\u001B[0m\u001B[1;33m\u001B[0m\u001B[0m\n\u001B[0;32m    310\u001B[0m         \u001B[0minfer_global\u001B[0m\u001B[1;33m(\u001B[0m\u001B[0mself\u001B[0m\u001B[1;33m,\u001B[0m \u001B[0mtypes\u001B[0m\u001B[1;33m.\u001B[0m\u001B[0mFunction\u001B[0m\u001B[1;33m(\u001B[0m\u001B[0mtemplate\u001B[0m\u001B[1;33m)\u001B[0m\u001B[1;33m)\u001B[0m\u001B[1;33m\u001B[0m\u001B[1;33m\u001B[0m\u001B[0m\n",
      "\u001B[1;31mTypeError\u001B[0m: make_intrinsic_template() missing 1 required positional argument: 'kwargs'"
     ]
    }
   ],
   "source": [
    "import shap\n",
    "# explainer = shap.TreeExplainer(model)\n",
    "# # compute SHAP values\n",
    "# explainer = shap.Explainer(model, data_x)\n",
    "# shap_values = explainer(X)"
   ]
  }
 ],
 "metadata": {
  "kernelspec": {
   "display_name": "Python 3 (ipykernel)",
   "language": "python",
   "name": "python3"
  },
  "language_info": {
   "codemirror_mode": {
    "name": "ipython",
    "version": 3
   },
   "file_extension": ".py",
   "mimetype": "text/x-python",
   "name": "python",
   "nbconvert_exporter": "python",
   "pygments_lexer": "ipython3",
   "version": "3.9.7"
  }
 },
 "nbformat": 4,
 "nbformat_minor": 5
}
